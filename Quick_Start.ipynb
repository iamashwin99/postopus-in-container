{
 "cells": [
  {
   "cell_type": "markdown",
   "id": "4519ce68",
   "metadata": {},
   "source": [
    "# Introduction\n",
    "Postopus is a project to explore different software designs for **POST**processing for **O**cto**PUS** runs.\n",
    "\n",
    "In this notebook we explore the basic functionality of the postopus package.\n",
    "\n",
    "The notebook assumes that you have Octopus installed and is in your (bash) path.\n",
    "The notebook is structured as follows:\n",
    "- **Benzene Example** : We use the Benzene example of Octopus to demonstrate the basic functionality of the postopus package.\n",
    "   - We run the ground state calculation\n",
    "   - Explore the data structure of postopus \n",
    "   - Analyse and plot the data using a package called x-array\n",
    "   - Use a package called holoviews for plotting\n",
    "- **Methane Example** : Run gs and td calculation\n",
    "\n",
    "Before we start the analysis, we import the packages we need."
   ]
  },
  {
   "cell_type": "code",
   "execution_count": null,
   "id": "7ec87d3d-9d40-4bf1-b6db-b30176526595",
   "metadata": {},
   "outputs": [],
   "source": [
    "# First import all the python modules we might need for the analysis.\n",
    "import os\n",
    "from pathlib import Path\n",
    "import shutil\n",
    "\n",
    "import matplotlib.pyplot as plt\n",
    "import numpy as np\n",
    "from postopus import Run\n",
    "\n",
    "%matplotlib inline"
   ]
  },
  {
   "cell_type": "markdown",
   "id": "cfd2e652-3052-477d-ba40-abf34d3b9b92",
   "metadata": {},
   "source": [
    "# Benzene Example (ground state computation)"
   ]
  },
  {
   "cell_type": "markdown",
   "id": "374dbb97-a148-49c1-95bd-649ab0c83142",
   "metadata": {
    "tags": []
   },
   "source": [
    "## Running the simulation"
   ]
  },
  {
   "cell_type": "markdown",
   "id": "1bc7bf79",
   "metadata": {},
   "source": [
    "Octopus takes an input file describing the systems and the simulation parameters.\n",
    "The input file is called `inp` and is a text file with no extension.\n",
    "The command `octopus` would then have to be executed in the folder that contains this `inp` file.\n",
    "Since octopus doesn't allow custom names for the input file, an ideal project structure would look like so:\n",
    "\n",
    "    ├── archimedean_spiral         # Project folder\n",
    "    │   └── inp                    # Input file\n",
    "    ├── benzene         \n",
    "    │   ├── benzene.xyz            # Geometry file or other supporting files\n",
    "    │   └── inp\n",
    "    ├── h-atom\n",
    "    │   └── inp\n",
    "    ├── he\n",
    "    │   └── inp\n",
    "    ├── methane                     # Project folder in case of a multi-stage calculation\n",
    "    │   ├── calculation_gs          # Ground state calculation\n",
    "    │   │   └── inp\n",
    "    │   ├── calculation_td          # Time dependent calculation\n",
    "    │   │   └── inp\n",
    "    │   └── inp                     # Input file for the whole calculation (The other files must be placed here one by one in each stage)\n",
    "    └── recipe\n",
    "        └── inp\n",
    "To run one such simulation project one would run the command `octopus` in the root of the folder.\n",
    "To begin with, lets try to run the benzene example.\n",
    "\n",
    "First we save the directory path in a variable called `example_dir` and then load it on to python"
   ]
  },
  {
   "cell_type": "code",
   "execution_count": null,
   "id": "8e558350-fdf3-495a-b04e-c9d48e3653ef",
   "metadata": {},
   "outputs": [],
   "source": [
    "example_dir = \"examples/benzene\"\n",
    "# Path to some example data\n",
    "path_to_octopus_output = Path(example_dir)"
   ]
  },
  {
   "cell_type": "markdown",
   "id": "2e58c71f",
   "metadata": {},
   "source": [
    "We now need to run the simulation.\n",
    "As mentioned before, this involves two steps:\n",
    "1. Change the directory to the project folder ( that contains the `inp` file )\n",
    "2. Run the command `octopus` in the terminal ( optionally store the octopus output in a log file by calling `octopus > out_gs.log 2>&1` )\n"
   ]
  },
  {
   "cell_type": "code",
   "execution_count": null,
   "id": "cff10fff-97df-4165-a9f7-ce55d47a096e",
   "metadata": {},
   "outputs": [],
   "source": [
    "cd examples/benzene"
   ]
  },
  {
   "cell_type": "code",
   "execution_count": null,
   "id": "ccfae3a4-0717-4017-9883-d3d5f7d62e32",
   "metadata": {},
   "outputs": [],
   "source": [
    "!octopus > out_gs.log 2>&1  # Run octopus with benzene example as input and log the output "
   ]
  },
  {
   "cell_type": "markdown",
   "id": "e3e1a415",
   "metadata": {},
   "source": [
    "We can now look at the log file (if created) to see if the simulation ran successfully.\n",
    "The log file is stored in the `example_dir` (project) folder."
   ]
  },
  {
   "cell_type": "code",
   "execution_count": null,
   "id": "782ea8ab",
   "metadata": {},
   "outputs": [],
   "source": [
    "!head -n 20 out_gs.log  # Just to see the first 20 lines of the octopus output"
   ]
  },
  {
   "cell_type": "code",
   "execution_count": null,
   "id": "2ecf5a28",
   "metadata": {},
   "outputs": [],
   "source": [
    "!tail -n 20 out_gs.log  # Just to see the last 20 lines of the octopus output"
   ]
  },
  {
   "cell_type": "markdown",
   "id": "b5acd26a",
   "metadata": {},
   "source": [
    "One would look at the last 20 lies to check if the job ran successfully or if there was any warning. A typical successful output looks like:\n",
    "\n",
    "        Calculation ended on 2022/10/06 at 15:56:42\n",
    "\n",
    "                                Walltime:  01.631s"
   ]
  },
  {
   "cell_type": "markdown",
   "id": "de80d3da",
   "metadata": {},
   "source": [
    "Octopus stores the calculation results in the project directory.\n",
    "If you were to take a look at the `benzene` project folder, you would see some thing like:\n",
    "\n",
    "    ├── benzene.xyz                     # Geometry of the molecules ( input )\n",
    "    ├── exec                            # Runtime information\n",
    "    │   ├── initial_coordinates.xyz\n",
    "    │   ├── messages\n",
    "    │   ├── oct-status-finished\n",
    "    │   └── parser.log                  # Full set of variables used for the run ( as parsed from the inp file and the code defaults if not specified )\n",
    "    ├── inp                             # Our input file \n",
    "    ├── out_gs.log                      # Log file\n",
    "    ├── output_iter                     # Output for each iteration in td calculation\n",
    "    ├── restart\n",
    "    │   └── gs                          # Ground state calculations\n",
    "    │       ├── 0000000001.obf          # Checkpoint file to restart calculation incase of job abortion\n",
    "    │       ├── 0000000002.obf\n",
    "    │       ├── ...\n",
    "    │       └── wfns\n",
    "    └── static                          # Ground state observables are stored here\n",
    "        ├── info                        # Result of ground state calculation like (energy eigenvalues and forces)\n",
    "        ├── convergence\n",
    "        ├── density.cube\n",
    "        ├── ...\n",
    "        └── wf-st0015.z=0\n",
    "\n",
    "These new files are the results of the simulation.\n",
    "One would now try to analyse the output files to determine their result the postopus package helps in this part."
   ]
  },
  {
   "cell_type": "code",
   "execution_count": null,
   "id": "4a484731-12da-49d6-ae97-662141d81dd7",
   "metadata": {},
   "outputs": [],
   "source": [
    "cd ../..  "
   ]
  },
  {
   "cell_type": "markdown",
   "id": "c7336246",
   "metadata": {},
   "source": [
    "## Postopus project structure"
   ]
  },
  {
   "cell_type": "markdown",
   "id": "3e1997dd",
   "metadata": {},
   "source": [
    "Once the simulation is complete, we can use the postopus package to analyse the data.\n",
    "\n",
    "We first let postopus know the path to the project folder (stored in the `examples/benzene` directory),\n",
    "by passing this to a `Run` constructor. Postopus scans through the project folder and creates a object called `run` in our example that contains (nearly) all the information about the simulation:"
   ]
  },
  {
   "cell_type": "code",
   "execution_count": null,
   "id": "5c49d91c-0872-4e90-ac19-d5abf8f2bd4e",
   "metadata": {},
   "outputs": [],
   "source": [
    "run = Run('examples/benzene')"
   ]
  },
  {
   "cell_type": "markdown",
   "id": "459d1883",
   "metadata": {},
   "source": [
    "### System selection"
   ]
  },
  {
   "cell_type": "markdown",
   "id": "2683094f-5e84-4671-91fc-bb71e11d33d6",
   "metadata": {},
   "source": [
    "Octopus supports the simulation of multiple types of systems, like e.g. `Maxwell`. The system type will normally be set in the `inp` file. If no system is specfically set, postopus will create a `default` system called `default`. Note: if the systems are explicitly defined, a postopus object will still have a `default` system to hold internal variables. To know all the systems our project has we run:"
   ]
  },
  {
   "cell_type": "code",
   "execution_count": null,
   "id": "eb0d3af3",
   "metadata": {},
   "outputs": [],
   "source": [
    "run.systems.keys()"
   ]
  },
  {
   "cell_type": "markdown",
   "id": "cf19f516",
   "metadata": {},
   "source": [
    "Instead of `run.system.keys()` one can also use `run.systems` to get a similar output."
   ]
  },
  {
   "cell_type": "markdown",
   "id": "c33e056f",
   "metadata": {},
   "source": [
    "### Calculation modes and subsystems"
   ]
  },
  {
   "cell_type": "markdown",
   "id": "e5bff59b",
   "metadata": {},
   "source": [
    "We can take a look at the different types of calculations done in this system by running:"
   ]
  },
  {
   "cell_type": "code",
   "execution_count": null,
   "id": "47a94d7e-d531-48d3-86f0-f23e37c98bfd",
   "metadata": {},
   "outputs": [],
   "source": [
    "run.default.system_data.keys()"
   ]
  },
  {
   "cell_type": "markdown",
   "id": "5bacb2da",
   "metadata": {},
   "source": [
    "This tells us that this project had only a self-consistent field simulation (`scf`)."
   ]
  },
  {
   "cell_type": "markdown",
   "id": "2a424a00-3a41-4182-a3fe-9ac08756ba78",
   "metadata": {},
   "source": [
    "### Autocompletion"
   ]
  },
  {
   "cell_type": "markdown",
   "id": "5b28b877-0f77-4600-82a0-88d632dfa268",
   "metadata": {},
   "source": [
    "We can take a look at the different fields available for this system by the tab completion feature available in Jupyter notebooks and IPython.\n",
    " \n",
    "Here is an example image of how the tab completion feature works:\n",
    "\n",
    "![../../images/tab_completion_eg.png](../../images/tab_completion_eg.png)"
   ]
  },
  {
   "cell_type": "markdown",
   "id": "a3808fcd-0c66-4b0d-89f6-c25138187c7e",
   "metadata": {},
   "source": [
    "Instead of using tab completion and if desired, one could use the following command to create a nicely formatted list of the attributes:"
   ]
  },
  {
   "cell_type": "code",
   "execution_count": null,
   "id": "e6cd1141",
   "metadata": {},
   "outputs": [],
   "source": [
    "[ attribute for attribute in dir(run.default.scf) if not attribute.startswith('_') ]"
   ]
  },
  {
   "cell_type": "markdown",
   "id": "e5efc275-8a1e-4b51-ac9e-1848e5add206",
   "metadata": {},
   "source": [
    "(Do not worry if the Python syntax used doesn't make sense to you - the tab completion is generally the convenient way to explore what data is accesible through postopus.)"
   ]
  },
  {
   "cell_type": "markdown",
   "id": "a171dc77-f372-4252-ab98-5b85a6a1ede0",
   "metadata": {
    "tags": []
   },
   "source": [
    "## Output files"
   ]
  },
  {
   "cell_type": "markdown",
   "id": "460d8d94-433a-4a9b-8cdb-d596bed05ca0",
   "metadata": {},
   "source": [
    "Postopus has many ways to handle octopus' output files. The handling depends on the type of file. We can have:\n",
    "- unstructured text files like `info`, without any extension. These are returned as they are in a string format.\n",
    "- table-like-structured files without extension, like `forces`. These are returned as `pandas Dataframes`.\n",
    "- Extension files, e.g. `xsf` or `cube` files. These are accessed via `get` methods."
   ]
  },
  {
   "cell_type": "markdown",
   "id": "2c72a5ce-e8a2-4004-8e11-69ca5c87a6c3",
   "metadata": {},
   "source": [
    "### Unstructured text files"
   ]
  },
  {
   "cell_type": "markdown",
   "id": "cdb3d40f-32f3-4e52-9ed9-2bdf4e0e81df",
   "metadata": {},
   "source": [
    "We can take a look at the `info` file, which stores information about this calculation by running:"
   ]
  },
  {
   "cell_type": "code",
   "execution_count": null,
   "id": "701f447c-9bdb-4b37-9234-3da0eb4e438d",
   "metadata": {},
   "outputs": [],
   "source": [
    "run.default.scf.info"
   ]
  },
  {
   "cell_type": "markdown",
   "id": "7ce86181",
   "metadata": {},
   "source": [
    "This is essentially the contents of the file `static/info` that octopus writes.\n",
    "One can have a look at its output to determine the total energy of the system and the eigenvalues.\n",
    "\n",
    "One can also look at the forces output from this info by running \n",
    "\n",
    "        r.default.scf.forces\n",
    "        \n",
    "Typically small forces (`total_x`,`total_y`,`total_z`) indicate a relaxed molecular or solid state structure, otherwise the geometry is perhaps not yet relaxed. \n",
    "In such case one might want to use the calculation mode `go` for geometry optimization."
   ]
  },
  {
   "cell_type": "code",
   "execution_count": null,
   "id": "1af47533",
   "metadata": {},
   "outputs": [],
   "source": [
    "run.default.scf.forces"
   ]
  },
  {
   "cell_type": "markdown",
   "id": "9ac18d0b",
   "metadata": {},
   "source": [
    "We can take a look at the convergence of the systems energy after each scf iteration through:"
   ]
  },
  {
   "cell_type": "code",
   "execution_count": null,
   "id": "74d4c117",
   "metadata": {},
   "outputs": [],
   "source": [
    "run.default.scf.convergence"
   ]
  },
  {
   "cell_type": "markdown",
   "id": "816fddfe",
   "metadata": {},
   "source": [
    "If we wanted to visualize the convergence of the energy, we can run the following:"
   ]
  },
  {
   "cell_type": "code",
   "execution_count": null,
   "id": "43397915",
   "metadata": {},
   "outputs": [],
   "source": [
    "run.default.scf.convergence['energy'].plot(style='*-' )"
   ]
  },
  {
   "cell_type": "markdown",
   "id": "adab89bc-278f-4016-a1a3-5924541c4c13",
   "metadata": {},
   "source": [
    "### Table-like-structured files "
   ]
  },
  {
   "cell_type": "markdown",
   "id": "274a24c4-2465-46b0-8b7a-e803ae4da0d2",
   "metadata": {},
   "source": [
    "These files are usually stored in the `static` folder for scf calculations or in the `td.general` folder for time-dependent calculations. These files usually contain physical data that either is one dimensional or without a reference to the coordinate system. Technically, the data provided in rows are presented as a pandas Dataframe object, and we can use all the methods available in pandas to explore them. "
   ]
  },
  {
   "cell_type": "markdown",
   "id": "d0aad4a1-4250-4984-8f7a-2f1675f3db8f",
   "metadata": {},
   "source": [
    "We can take a look at the convergence of the systems energy after each scf iteration through:"
   ]
  },
  {
   "cell_type": "code",
   "execution_count": null,
   "id": "939abcec-c62b-4a43-b736-f2aeb3bf3c7c",
   "metadata": {},
   "outputs": [],
   "source": [
    "run.default.scf.convergence"
   ]
  },
  {
   "cell_type": "markdown",
   "id": "4eacea4b",
   "metadata": {},
   "source": [
    "If we wanted to visualize the convergence of the energy, we can run the following:"
   ]
  },
  {
   "cell_type": "code",
   "execution_count": null,
   "id": "27bcd0f8",
   "metadata": {},
   "outputs": [],
   "source": [
    "run.default.scf.convergence['energy'].plot(style='*-' )"
   ]
  },
  {
   "cell_type": "markdown",
   "id": "2237fe90-b347-4a58-b8c7-aeb0d25c935f",
   "metadata": {},
   "source": [
    "These kind of files always have an `.attrs` attribute, which holds further metadata that was stored initially on the file. In this case there is not much stored here appart from the filename, that could be used for setting the plot title, e.g. Nonetheless, in other cases, one can find useful information here."
   ]
  },
  {
   "cell_type": "code",
   "execution_count": null,
   "id": "5b3b78af-7b03-47aa-b120-e97717ecd8f5",
   "metadata": {},
   "outputs": [],
   "source": [
    "run.default.scf.convergence.attrs"
   ]
  },
  {
   "cell_type": "markdown",
   "id": "368fffcf-d477-4079-b0d3-35ce584b7b04",
   "metadata": {},
   "source": [
    "### Extension files"
   ]
  },
  {
   "cell_type": "markdown",
   "id": "af17ea36-e1bb-4aa6-9971-92cc9e974374",
   "metadata": {},
   "source": [
    "These files store field data that have a reference to the coordinate system. They can be stored in the `static` folder (normally converged scf iterations), or in the `output_iter` folder. We will call them Fields from now on. Postopus internally handles them as `ScalarField`s or `VectorField`s."
   ]
  },
  {
   "cell_type": "markdown",
   "id": "d3523450",
   "metadata": {},
   "source": [
    "#### Fields"
   ]
  },
  {
   "cell_type": "markdown",
   "id": "f3a61f64",
   "metadata": {},
   "source": [
    "Fields are quantities that are available for different positions in space, or even time, such as an electric field or an electron density. Often, these are presented as arrays with multiple indices - for example indices for the x, y and z direction for a spatially resolved field.\n",
    "\n",
    "In our benzene example, we have the following fields: `density`,`elf_rs`, `v0`,`vh`, `vks`, `wf`.\n",
    "\n",
    "Field data can be accessed with a call to the `get()` method of the required field object.\n",
    "`get()` takes two parameters, `step` for the iteration number(s) you want to access and `source` for the source of data. For the common scenario that the relevant data is not stored in multiple file formats, we can omit the `source` argument.\n",
    "\n",
    "Lets look at density as an example:"
   ]
  },
  {
   "cell_type": "code",
   "execution_count": null,
   "id": "b4a4165f",
   "metadata": {},
   "outputs": [],
   "source": [
    "density_data = run.default.scf.density.get(steps=1)\n",
    "density_data"
   ]
  },
  {
   "cell_type": "markdown",
   "id": "1d783e02",
   "metadata": {},
   "source": [
    "If you want to access the data for all the iterations, you can use `get_all()` or if you only wanted the converged iteration, you can use `get_converged()`. In this specific case, both calls would deliver the same output, since in the benzene `inp` file the `OutputDuringSCF` parameter is not set to `True`, so that we only can access to the last converged iteration. For these last two methods, the user doesn't need to provide a `steps` method.\n",
    "\n",
    "The data object is an `xarray` object containing not only the data values, but also the coordinates for which these values are defined:"
   ]
  },
  {
   "cell_type": "code",
   "execution_count": null,
   "id": "f0e8610c-966c-451a-a130-ec46ed382dda",
   "metadata": {},
   "outputs": [],
   "source": [
    "density_data.coords"
   ]
  },
  {
   "cell_type": "code",
   "execution_count": null,
   "id": "df278454-16c1-4407-bf91-a46189e76bae",
   "metadata": {},
   "outputs": [],
   "source": [
    "density_data.values.shape"
   ]
  },
  {
   "cell_type": "markdown",
   "id": "811ff91f",
   "metadata": {},
   "source": [
    "The xarray object holds the metadata needed to search for and visualize the data because it is aware of the coordinates (and the names of the coordinates, such as x, y, and z).  This can make the plotting of the data easier. It also helps selecting subsets of the data. The following section will examine the plotting workflow.\n",
    "\n",
    "In summary we can conclude the overall data structure as having the following syntax:\n",
    "\n",
    " - Scalar fields: `run.systemname.calculationmode.fieldname`\n",
    " - Vector fields: `run.systemname.calculationmode.fieldname(.dimension)`\n",
    "\n",
    "We use the `get` method (or its variants) to access the data."
   ]
  },
  {
   "cell_type": "markdown",
   "id": "09bf3b4c-9613-4fb4-8e0e-902ab8f76a4b",
   "metadata": {
    "tags": []
   },
   "source": [
    "## Working with the data: x-array"
   ]
  },
  {
   "cell_type": "markdown",
   "id": "56ea1881",
   "metadata": {},
   "source": [
    "In the previous sections we saw how to  access any scalar or vector field generated by our calculation.\n",
    "Let's explore the typical workflow of analyzing the data (slicing and plotting).\n",
    "First let's load the density data:"
   ]
  },
  {
   "cell_type": "code",
   "execution_count": null,
   "id": "36d652f9",
   "metadata": {},
   "outputs": [],
   "source": [
    "# ask postopus for the x-array representation of the data\n",
    "density = run.default.scf.density\n",
    "xa = density.get_converged()  # the converged field from the \"static\" folder is loaded.\n",
    "xa"
   ]
  },
  {
   "cell_type": "markdown",
   "id": "c8d33219-5248-492c-b155-4bf8a5c0b0b8",
   "metadata": {
    "tags": []
   },
   "source": [
    "### Selecting a slice by index and visualizing it"
   ]
  },
  {
   "cell_type": "markdown",
   "id": "13f88f68",
   "metadata": {},
   "source": [
    "In the first line of the previous cell, we had an overview of the xarray data inside the `density` field.\n",
    "The first line tells us the number of sampling points in each direction:\n",
    "\n",
    "    xarray.DataArray ‘density’ (step: 1, x: 95, y: 99, z: 67)\n",
    "\n",
    "So there are 95 sampling points in the x-direction and similarly 67 for the z-direction.\n",
    "Suppose we want to have a view of density of benzene in the x-y plane (i.e. at $z=0$), \n",
    "we can do so by selecting the slice at z=0. One way to do this for this particular simulation is by asking  xarray for selecting the slice at the index $i_z=67/2~\\approx~33$:\n"
   ]
  },
  {
   "cell_type": "code",
   "execution_count": null,
   "id": "a39a663f-5f63-4d60-8676-49b7551ea221",
   "metadata": {},
   "outputs": [],
   "source": [
    "s0 = xa.isel(z=33)  # Viewing the slice at 33rd index of z-axis\n",
    "s0"
   ]
  },
  {
   "cell_type": "markdown",
   "id": "82a2e899",
   "metadata": {},
   "source": [
    "This slice returns another xarray object. Note here that the coordinate value for `z` is `1.588e-06`, which is the value of `z` coordinate for the 33rd sampling point in the z-direction.\n",
    "We can now plot this slice using the `plot()` method of the xarray object:"
   ]
  },
  {
   "cell_type": "code",
   "execution_count": null,
   "id": "297567de-28aa-423c-80b9-1fdda451a1be",
   "metadata": {},
   "outputs": [],
   "source": [
    "s0.plot()  "
   ]
  },
  {
   "cell_type": "markdown",
   "id": "604c414b",
   "metadata": {},
   "source": [
    "Note that the plot has the x and the y axis inverted, one can change this by passing the `x='x'` argument to the `plot()` method."
   ]
  },
  {
   "cell_type": "code",
   "execution_count": null,
   "id": "a2e176cd",
   "metadata": {},
   "outputs": [],
   "source": [
    "s0.plot(x='x')  "
   ]
  },
  {
   "cell_type": "markdown",
   "id": "57be7767",
   "metadata": {},
   "source": [
    "Another way to slice the data is by using the `sel()` method of the xarray object, where you can pass the *coordinate value* instead of the *index*.\n",
    "\n",
    "For example, to get the same slice as above, we can use:"
   ]
  },
  {
   "cell_type": "code",
   "execution_count": null,
   "id": "f1f4c474-771a-476e-89f2-6c44325ee018",
   "metadata": {},
   "outputs": [],
   "source": [
    "s1 = xa.sel(z=0, method=\"nearest\")\n",
    "s1.plot(x='x')"
   ]
  },
  {
   "cell_type": "markdown",
   "id": "80689c63",
   "metadata": {},
   "source": [
    "Note that plots automatically display the value of the position of the slice in the z-direction as well as the step number. \n",
    "This is possible because xarray maintains the metadata of the coordinates even after slicing."
   ]
  },
  {
   "cell_type": "markdown",
   "id": "dbd3022e",
   "metadata": {},
   "source": [
    "One can have a side view of the molecule by slicing the data in the y-z plane (i.e. at $x=0$) in a similar fashion:\n",
    "\n",
    "    xa.sel(x=0, method='nearest')\n",
    "\n",
    "Using a `for` loop and some commands from the `matplotlib` plotting library, we can plot 6 different slices of the data in a 3x2 grid at different values of x."
   ]
  },
  {
   "cell_type": "code",
   "execution_count": null,
   "id": "99c0b36e-0644-4560-a71b-495dce0ebb5a",
   "metadata": {},
   "outputs": [],
   "source": [
    "# plot of 6 2D slice of the density along the x axis\n",
    "fig, axs = plt.subplots(2, 3, figsize=(10, 5))          # create a subplot with 2 rows, 3 columns\n",
    "x_positions = np.linspace(-7.5, 5, 6)                   # x positions from -7.5 to 5 in 6 steps \n",
    "for ax, x in zip(axs.flat, x_positions):\n",
    "    xa.sel(x=x, method=\"nearest\").plot(ax=ax,x='y')     # plot the slice nearest to x position\n",
    "    \n",
    "fig.tight_layout()                                      # avoid overlap of labels"
   ]
  },
  {
   "cell_type": "markdown",
   "id": "a0d60e6e",
   "metadata": {},
   "source": [
    "The `sel` method can also be used to select a multiple coordinates at once, for example to select the slice at $x=0$ and $z=0$ we can do:\n",
    "\n",
    "    xa.sel(x=0, z=0, method='nearest')\n",
    "\n",
    "We can then plot the variation of density along the y axis. Because we have restricted two (`x` and `z`) of the three spatial dimensions, we obtain a 'line plot' of the density along the remaining coordinate dimension `y`."
   ]
  },
  {
   "cell_type": "code",
   "execution_count": null,
   "id": "48041f13-6378-4b9d-a8d0-15dd0c3d24a3",
   "metadata": {},
   "outputs": [],
   "source": [
    "xa.sel(x=0, z=0, method=\"nearest\").plot() "
   ]
  },
  {
   "cell_type": "markdown",
   "id": "9ed24570",
   "metadata": {},
   "source": [
    "A more detailed exploration of plotting with x-array is available in the [postopus plotting tutorial](https://octopus-code.gitlab.io/postopus/notebooks/xarray-plots1.html#)."
   ]
  },
  {
   "cell_type": "markdown",
   "id": "c4bcd5f0-8e42-4ae8-8978-de47a9d579ac",
   "metadata": {
    "tags": []
   },
   "source": [
    "## Plotting with holoviews"
   ]
  },
  {
   "cell_type": "markdown",
   "id": "621e6e4a",
   "metadata": {},
   "source": [
    "A plotting library that is built for interactive/multidimensional plots is [holoviews](http://holoviews.org/).\n",
    "Converting xarray objects (the most common output type in postopus) to holoviews objects is simple, as we will see. Holoviews supports many backends for the plotting. In this tutorial we will use matplotlib and bokeh (the default plotting backends for holoviews).\n",
    "\n",
    "The holoviews approach to plotting may seem unconvential (and perhaps confusing) at first -- it is, however, very powerful. In particular, holoviews allows the selective and/or interactive visualisation of data that is defined in more dimensions that we can easily visualise. To be able to use that power, we need to provide some additional information to the plotting commands: for example which of the many dimensions we want to plot, and for which we would like to have an interactive slider to select it.\n",
    "\n",
    "We provide a few examples that can be used as templates to cover typical use cases below. \n"
   ]
  },
  {
   "cell_type": "markdown",
   "id": "3c596490-7416-4169-b675-622d250fec83",
   "metadata": {},
   "source": [
    "First let us import the holoviews library as well as the plotting backends we will use:"
   ]
  },
  {
   "cell_type": "code",
   "execution_count": null,
   "id": "d9cb5b35",
   "metadata": {},
   "outputs": [],
   "source": [
    "import holoviews as hv\n",
    "from holoviews import opts  # For setting defaults\n",
    "# hv.extension('bokeh', 'matplotlib')  # Allow for interactive plots\n",
    "hv.extension('bokeh')  # Allow for interactive plots"
   ]
  },
  {
   "cell_type": "markdown",
   "id": "8826a6f7",
   "metadata": {},
   "source": [
    "We then choose the color map we want to use for the plots. We use `viridis`."
   ]
  },
  {
   "cell_type": "code",
   "execution_count": null,
   "id": "aa6299e8",
   "metadata": {},
   "outputs": [],
   "source": [
    "# Choose color scheme similar to matplotlib\n",
    "opts.defaults(\n",
    "    opts.Image(cmap='viridis', width=400, height=400),\n",
    ")"
   ]
  },
  {
   "cell_type": "markdown",
   "id": "89aba34b-35a4-4742-9a1a-5e889a69cd35",
   "metadata": {},
   "source": [
    "We create the object `xa`, which is an xarray of the converged density of the benzene molecule and which we used already earlier in this notebook."
   ]
  },
  {
   "cell_type": "code",
   "execution_count": null,
   "id": "03aaa471-869c-4a09-a067-8cf33ad0a420",
   "metadata": {},
   "outputs": [],
   "source": [
    "run = Run(\"examples/benzene\")\n",
    "xa = run.default.scf.density.get_converged()"
   ]
  },
  {
   "cell_type": "markdown",
   "id": "bf541e22",
   "metadata": {},
   "source": [
    "We first convert the xarray object `xa` to a holoviews object using the `hv.Dataset` method.\n",
    "\n",
    "        hv.Dataset(xa)\n",
    "        \n",
    "We can now visualise the data as an `hv.Image` using the `to` method of the holoviews object: \n",
    "    \n",
    "        hv.Dataset(xa).to(hv.Image, ['x', 'y'])\n",
    "\n",
    "We specify the 'x' and 'y' dimensions as the Image's two **k**ey **dim**ensions (kdims) (in this case the `x` and `y` coordinates of the Dataset) that will serve as the visible axes. The remaining dimensions (in this case `z` and `step`) will be used as controls (in the form of slider and a dropdown list) to select the data to display.\n",
    "\n",
    "The slider for `z` allows us to select the slice at different values of `z` interactively and the dropdown for `step` allows us to select the data at different iterations. (There is only data for one Step in this example.). One can use the `opts` arguments to customize the plot further, for more details see the [holoviews tutorial](https://octopus-code.gitlab.io/postopus/notebooks/holoviews_with_postopus.html).\n"
   ]
  },
  {
   "cell_type": "code",
   "execution_count": null,
   "id": "cb460331-d8a2-4249-b1d2-67c4dbb432c4",
   "metadata": {},
   "outputs": [],
   "source": [
    "hv.Dataset(xa).to(hv.Image, kdims=[\"x\", \"y\"]).opts(colorbar=True)"
   ]
  },
  {
   "cell_type": "markdown",
   "id": "69cb7e19",
   "metadata": {},
   "source": [
    "Specifying the argument `dynamic=True` in the `to` method allows us to select the data one by one instead of precomputing for the entire range. This may be necessary for larger data points.\n",
    "\n",
    "Here is a similar plot for the y-z plane (with a slider for x):"
   ]
  },
  {
   "cell_type": "code",
   "execution_count": null,
   "id": "57f0b96f-b953-425a-b501-21ebca803bb9",
   "metadata": {},
   "outputs": [],
   "source": [
    "hv.Dataset(xa).to(hv.Image, kdims=[\"y\", \"z\"], dynamic=True).opts(colorbar=True)"
   ]
  },
  {
   "cell_type": "markdown",
   "id": "fb55920c",
   "metadata": {},
   "source": [
    "One can also have a carousel of images for these slices instead of a slider, by using the `grid(\"z\")` method."
   ]
  },
  {
   "cell_type": "code",
   "execution_count": null,
   "id": "20ca42a9-3631-46be-9224-73005202c12f",
   "metadata": {},
   "outputs": [],
   "source": [
    "plot = hv.Dataset(xa).to(hv.Image, kdims=[\"y\", \"x\"])\n",
    "plot.grid(\"z\")"
   ]
  },
  {
   "cell_type": "markdown",
   "id": "e61a4b5c",
   "metadata": {},
   "source": [
    "A more detailed exploration of plotting with holoviews is available in the [postopus plotting tutorial](https://octopus-code.gitlab.io/postopus/notebooks/holoviews_with_postopus.html), or in the [holoviews documentation](https://holoviews.org/getting_started/Gridded_Datasets.html)."
   ]
  },
  {
   "cell_type": "markdown",
   "id": "691367c3",
   "metadata": {},
   "source": [
    "# Methane Example with time-dependent data"
   ]
  },
  {
   "cell_type": "code",
   "execution_count": null,
   "id": "fb8a17cf",
   "metadata": {},
   "outputs": [],
   "source": [
    "# first run ground state calculations by\n",
    "# copying the inp from example_di/calculation_gs to example_dir and run octopus\n",
    "example_dir = \"examples/methane\"\n",
    "shutil.copyfile(\n",
    "    os.path.join(example_dir, \"calculation_gs\", \"inp\"),\n",
    "    os.path.join(example_dir, \"inp\")\n",
    ")\n",
    "! cd {example_dir}  && octopus > out_gs.log 2>&1 \n",
    "! cd {example_dir}  && head -n 20 out_gs.log  # Just to see the first 20 lines of the octopus output"
   ]
  },
  {
   "cell_type": "code",
   "execution_count": null,
   "id": "a3bf2f0f-cbb3-4efe-a262-e8ffb4faa880",
   "metadata": {},
   "outputs": [],
   "source": [
    "# then run the td calculations by\n",
    "# copying the inp from example_di/calculation_td to example_dir and run octopus\n",
    "shutil.copyfile(\n",
    "    os.path.join(example_dir, \"calculation_td\", \"inp\"),\n",
    "    os.path.join(example_dir, \"inp\")\n",
    ")\n",
    "\n",
    "! cd {example_dir}  && octopus > out_td.log  2>&1\n",
    "! cd {example_dir}  && head -n 20 out_td.log # Just to see the first 20 lines of the octopus output"
   ]
  },
  {
   "cell_type": "code",
   "execution_count": null,
   "id": "5210cc4b-7e69-4d57-8f09-8b5e151aaf14",
   "metadata": {},
   "outputs": [],
   "source": [
    "run = Run(\"examples/methane\")"
   ]
  },
  {
   "cell_type": "code",
   "execution_count": null,
   "id": "7ce26c7f-560e-4f5e-a65f-c5b5b513e41c",
   "metadata": {},
   "outputs": [],
   "source": [
    "density = run.default.td.density.get_all(source='ncdf')"
   ]
  },
  {
   "cell_type": "code",
   "execution_count": null,
   "id": "75b5a016-bed9-4236-9ba4-c97ea53e2681",
   "metadata": {},
   "outputs": [],
   "source": [
    "density.coords"
   ]
  },
  {
   "cell_type": "markdown",
   "id": "2a221b4f-1201-4cdd-9ce2-fad74d2bc178",
   "metadata": {},
   "source": [
    "Note that now the density xarray has four dimensions we can index: time, x, y, and z."
   ]
  },
  {
   "cell_type": "code",
   "execution_count": null,
   "id": "c5399966-05b4-4427-a03b-36d719ffb0c5",
   "metadata": {},
   "outputs": [],
   "source": [
    "density.values.shape"
   ]
  },
  {
   "cell_type": "markdown",
   "id": "a4450a8f-bc5a-47a9-8319-e1f1c4e626ab",
   "metadata": {},
   "source": [
    "Plot the first time slice, the choose the spatial slice closest to $z=0$:"
   ]
  },
  {
   "cell_type": "code",
   "execution_count": null,
   "id": "c9c3d321-5b02-4f3c-be83-17318a0495c0",
   "metadata": {},
   "outputs": [],
   "source": [
    "density.isel(t=0).sel(z=0, method='nearest').plot()"
   ]
  },
  {
   "cell_type": "markdown",
   "id": "d1c2c853-698d-43bc-9681-7507475a6800",
   "metadata": {},
   "source": [
    "Plot the density along the y-direction, nearest to $z=0$ and $x=0$, for all time steps:"
   ]
  },
  {
   "cell_type": "code",
   "execution_count": null,
   "id": "6c3d0d1b-2dde-492a-bf84-6141a5832905",
   "metadata": {},
   "outputs": [],
   "source": [
    "density.sel(z=0, method='nearest').sel(x=0, method='nearest').plot()"
   ]
  },
  {
   "cell_type": "markdown",
   "id": "23ad91f7-f7c2-4e8c-a659-0905ba56fe68",
   "metadata": {},
   "source": [
    "Plot the density closest to $\\vec{r}= (0, 1, 0)$ as a function of time $t$:"
   ]
  },
  {
   "cell_type": "code",
   "execution_count": null,
   "id": "2076bc85-0c9d-4427-9ae1-361fae4928c2",
   "metadata": {},
   "outputs": [],
   "source": [
    "density.sel(x=0, method='nearest').sel(y=0, method='nearest').sel(z=0, method='nearest').plot()"
   ]
  },
  {
   "cell_type": "markdown",
   "id": "25d2b362-3cae-497a-9c88-796ea24b4974",
   "metadata": {},
   "source": [
    "Using holoviews, we can have a slider for time and a spatial slice. For example:"
   ]
  },
  {
   "cell_type": "code",
   "execution_count": null,
   "id": "2c0b6f04-5017-477a-ae18-34a4beb8fcd0",
   "metadata": {},
   "outputs": [],
   "source": [
    "hv.Dataset(density).to(hv.Image, kdims=[\"x\", \"y\"], dynamic=True).opts(colorbar=True)"
   ]
  },
  {
   "cell_type": "code",
   "execution_count": null,
   "id": "d7290357-7fda-4585-8ec4-68fa68e34992",
   "metadata": {},
   "outputs": [],
   "source": []
  }
 ],
 "metadata": {
  "kernelspec": {
   "display_name": "Python 3 (ipykernel)",
   "language": "python",
   "name": "python3"
  },
  "language_info": {
   "codemirror_mode": {
    "name": "ipython",
    "version": 3
   },
   "file_extension": ".py",
   "mimetype": "text/x-python",
   "name": "python",
   "nbconvert_exporter": "python",
   "pygments_lexer": "ipython3",
   "version": "3.9.13"
  },
  "vscode": {
   "interpreter": {
    "hash": "7d86675be647ed983eca0751a5c5cd6e52cfa67869ea07edc2928c4d9b3ecdee"
   }
  }
 },
 "nbformat": 4,
 "nbformat_minor": 5
}
